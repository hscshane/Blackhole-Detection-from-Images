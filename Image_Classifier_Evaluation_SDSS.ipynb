{
 "cells": [
  {
   "cell_type": "markdown",
   "id": "3b577212",
   "metadata": {},
   "source": [
    "<h1> <center><font color='green' > <b>AGN Image Classification for SDSS</b></font> </center></h1>\n",
    "\n",
    "# Model Performance Evaluation\n",
    "by Sicong Huang <br> \\\n",
    "<font color='blue'>Python Version: 3.6.5 <br>\n",
    "SDSS Version: DR8"
   ]
  },
  {
   "cell_type": "markdown",
   "id": "d41c2c33",
   "metadata": {},
   "source": [
    "# Import"
   ]
  },
  {
   "cell_type": "code",
   "execution_count": 17,
   "id": "bd521ffa",
   "metadata": {},
   "outputs": [],
   "source": [
    "# System\n",
    "import os\n",
    "import glob\n",
    "from tqdm import tqdm\n",
    "import h5py\n",
    "from IPython.display import Markdown, display, Audio\n",
    "\n",
    "# Web Scraping\n",
    "\n",
    "# Data Analysis\n",
    "import pandas as pd\n",
    "import numpy as np\n",
    "\n",
    "# Machine Learning\n",
    "from scipy import stats\n",
    "import sklearn\n",
    "import joblib\n",
    "from sklearn.metrics import accuracy_score, f1_score, precision_score, recall_score, log_loss, classification_report\n",
    "from sklearn.metrics import confusion_matrix, plot_confusion_matrix, roc_curve, roc_auc_score\n",
    "from sklearn.model_selection import GridSearchCV, StratifiedKFold\n",
    "from tensorflow import keras\n",
    "import keras.backend as K\n",
    "\n",
    "# Data Visualization\n",
    "import matplotlib.pyplot as plt\n",
    "from matplotlib.pyplot import imshow\n",
    "import seaborn as sns\n",
    "\n",
    "pd.options.display.float_format = '{:,.2f}'.format\n",
    "%matplotlib inline"
   ]
  },
  {
   "cell_type": "markdown",
   "id": "96d8c9da",
   "metadata": {},
   "source": [
    "# Functions"
   ]
  },
  {
   "cell_type": "code",
   "execution_count": 2,
   "id": "7e29346a",
   "metadata": {},
   "outputs": [],
   "source": [
    "def sound_effect(fail=0):\n",
    "    \"\"\"\n",
    "    Play a sound when job is finished\n",
    "    \"\"\"\n",
    "    if fail == 0:\n",
    "        sound_file = '/data/home/sicong/sounds/jobs-done_1.mp3'\n",
    "        display(Audio(sound_file, autoplay=True))\n",
    "    else:\n",
    "        sound_file = '/data/home/sicong/sounds/oh-shit-im-sorry_0001.mp3'\n",
    "        display(Audio(sound_file, autoplay=True))"
   ]
  },
  {
   "cell_type": "code",
   "execution_count": 3,
   "id": "ef26d507",
   "metadata": {},
   "outputs": [],
   "source": [
    "def printmd(string):\n",
    "    \"\"\"\n",
    "    print in markdown style\n",
    "    \"\"\"\n",
    "    display(Markdown(string))"
   ]
  },
  {
   "cell_type": "code",
   "execution_count": 5,
   "id": "d6813e62",
   "metadata": {},
   "outputs": [],
   "source": [
    "def load_dataset(train_file, dev_file):\n",
    "    train_dataset = h5py.File(train_file, \"r\")\n",
    "    train_set_x_orig = np.array(train_dataset[\"train_set_x\"][:]) # your train set features\n",
    "    train_set_y_orig = np.array(train_dataset[\"train_set_y\"][:]) # your train set labels\n",
    "\n",
    "    dev_dataset = h5py.File(dev_file, \"r\")\n",
    "    dev_set_x_orig = np.array(dev_dataset[\"dev_set_x\"][:]) # your test set features\n",
    "    dev_set_y_orig = np.array(dev_dataset[\"dev_set_y\"][:]) # your test set labels\n",
    "\n",
    "    #classes = np.array(test_dataset[\"list_classes\"][:]) # the list of classes\n",
    "    \n",
    "    train_set_y_orig = train_set_y_orig.reshape((1, train_set_y_orig.shape[0]))\n",
    "    dev_set_y_orig = dev_set_y_orig.reshape((1, dev_set_y_orig.shape[0]))\n",
    "    \n",
    "    return train_set_x_orig, train_set_y_orig, dev_set_x_orig, dev_set_y_orig"
   ]
  },
  {
   "cell_type": "code",
   "execution_count": 4,
   "id": "4ee5c6f3",
   "metadata": {},
   "outputs": [],
   "source": [
    "def conf_matrix(y_test, pred_test):    \n",
    "    \n",
    "    # Creating a confusion matrix\n",
    "    con_mat = confusion_matrix(y_test, pred_test)\n",
    "    con_mat = pd.DataFrame(con_mat, range(2), range(2))\n",
    "   \n",
    "    #Ploting the confusion matrix\n",
    "    plt.figure(figsize=(3,3))\n",
    "    sns.set(font_scale=1.5) \n",
    "    ax = sns.heatmap(con_mat, annot=True, annot_kws={\"size\": 16}, fmt='g', cmap='Blues', cbar=False)\n",
    "    ax.set(xlabel='Predicted Values', ylabel='Actual Value')\n",
    "    plt.show()\n",
    "    "
   ]
  },
  {
   "cell_type": "markdown",
   "id": "0415eab3",
   "metadata": {},
   "source": [
    "# Read train/dev/test sets"
   ]
  },
  {
   "cell_type": "code",
   "execution_count": 7,
   "id": "7fe0a8be",
   "metadata": {},
   "outputs": [],
   "source": [
    "# Image directory\n",
    "Image_path = '/data/blackbase/Images/'\n",
    "\n",
    "# datasets\n",
    "train_file = Image_path+'train_sdss.h5'\n",
    "dev_file = Image_path+'dev_sdss.h5'"
   ]
  },
  {
   "cell_type": "code",
   "execution_count": 10,
   "id": "3f9583ae",
   "metadata": {},
   "outputs": [],
   "source": [
    "X_train_orig, Y_train_orig, X_test_orig, Y_test_orig = load_dataset(train_file, dev_file)"
   ]
  },
  {
   "cell_type": "code",
   "execution_count": 14,
   "id": "2ec68054",
   "metadata": {},
   "outputs": [],
   "source": [
    "y_train = Y_train_orig.T\n",
    "y_dev = Y_test_orig.T"
   ]
  },
  {
   "cell_type": "code",
   "execution_count": 15,
   "id": "1800bded",
   "metadata": {},
   "outputs": [],
   "source": [
    "# Set star = galaxy = 1\n",
    "y_train = np.where(y_train == 2, 1, y_train)\n",
    "y_dev = np.where(y_dev == 2, 1, y_dev)"
   ]
  },
  {
   "cell_type": "markdown",
   "id": "f1eccf57",
   "metadata": {},
   "source": [
    "# Read results"
   ]
  },
  {
   "cell_type": "code",
   "execution_count": 13,
   "id": "f2e2ccba",
   "metadata": {},
   "outputs": [],
   "source": [
    "# Shallow CNN\n",
    "%store -r yhat_train_cnn\n",
    "%store -r yhat_dev_cnn\n",
    "%store -r yhat_dev_prob_cnn\n",
    "%store -r yhat_train_prob_cnn\n",
    "\n",
    "# ResNet\n",
    "%store -r yhat_train_res\n",
    "%store -r yhat_dev_res\n",
    "%store -r yhat_dev_prob_res\n",
    "%store -r yhat_train_prob_res"
   ]
  },
  {
   "cell_type": "markdown",
   "id": "eeb14788",
   "metadata": {},
   "source": [
    "# Model Evaluation"
   ]
  },
  {
   "cell_type": "markdown",
   "id": "bea2e803",
   "metadata": {},
   "source": [
    "## Metrics\n",
    "Accuracy is used when the True Positives and True negatives are more important while F1-score is used when the False Negatives and False Positives are crucial"
   ]
  },
  {
   "cell_type": "markdown",
   "id": "bafa81ee",
   "metadata": {},
   "source": [
    "- <font color='green'>AGN completeness (True Positive Rate/recall) </font>: \n",
    "    - TP/(TP+FN)\n",
    "    - measures the proportion of AGN that are correctly identified\n",
    "- <font color='green'>non-AGN completeness (True Negative Rate/Specificity)</font>: \n",
    "    - TN/(TN+FP)\n",
    "    - measures the proportion of non-AGN that are correctly identified\n",
    "- <font color='green'>F1 score (Major Metric)</font>: \n",
    "    - The F1 score is the harmonic average of the precision and recall, where an F1 score reaches its best value at 1 (perfect precision and recall) and worst at 0. It is a good way to show that a classifer has a good value for both recall and precision.\n",
    "    - Notice the label for agn is 0.\n",
    "- <font color='green'>Accuracy</font>: \n",
    "    - It is defined as 0.5x(Recall+Sensitivity)\n",
    "- <font color='green'>ROC AUC</font>\n"
   ]
  },
  {
   "cell_type": "markdown",
   "id": "e202805d",
   "metadata": {},
   "source": [
    "### Evaluate on Validation Set"
   ]
  },
  {
   "cell_type": "code",
   "execution_count": 18,
   "id": "a6f6b498",
   "metadata": {},
   "outputs": [],
   "source": [
    "# Shallow CNN\n",
    "f1_dev_cnn = f1_score(y_dev, yhat_dev_cnn, pos_label = 0)\n",
    "recall_dev_cnn = recall_score(y_dev, yhat_dev_cnn, pos_label = 0)\n",
    "spec_dev_cnn = recall_score(y_dev, yhat_dev_cnn, pos_label=1)\n",
    "acc_dev_cnn = accuracy_score(y_dev, yhat_dev_cnn)\n",
    "auc_dev_cnn = roc_auc_score(y_dev, yhat_dev_cnn)\n",
    "\n",
    "# ResNet\n",
    "f1_dev_res = f1_score(y_dev, yhat_dev_res, pos_label = 0)\n",
    "recall_dev_res = recall_score(y_dev, yhat_dev_res, pos_label = 0)\n",
    "spec_dev_res = recall_score(y_dev, yhat_dev_res, pos_label=1)\n",
    "acc_dev_res = accuracy_score(y_dev, yhat_dev_res)\n",
    "auc_dev_res = roc_auc_score(y_dev, yhat_dev_res)"
   ]
  },
  {
   "cell_type": "markdown",
   "id": "d79d88fd",
   "metadata": {},
   "source": [
    "### Evaluate on Training Set"
   ]
  },
  {
   "cell_type": "code",
   "execution_count": 19,
   "id": "59aa2fba",
   "metadata": {},
   "outputs": [],
   "source": [
    "# Shallow CNN\n",
    "f1_train_cnn = f1_score(y_train, yhat_train_cnn, pos_label = 0)\n",
    "recall_train_cnn = recall_score(y_train, yhat_train_cnn, pos_label = 0)\n",
    "spec_train_cnn = recall_score(y_train, yhat_train_cnn, pos_label=1)\n",
    "acc_train_cnn = accuracy_score(y_train, yhat_train_cnn)\n",
    "auc_train_cnn = roc_auc_score(y_train, yhat_train_cnn)\n",
    "\n",
    "# ResNet\n",
    "f1_train_res = f1_score(y_train, yhat_train_res, pos_label = 0)\n",
    "recall_train_res = recall_score(y_train, yhat_train_res, pos_label = 0)\n",
    "spec_train_res = recall_score(y_train, yhat_train_res, pos_label=1)\n",
    "acc_train_res = accuracy_score(y_train, yhat_train_res)\n",
    "auc_train_res = roc_auc_score(y_train, yhat_train_res)"
   ]
  },
  {
   "cell_type": "code",
   "execution_count": 24,
   "id": "4c5e00e9",
   "metadata": {},
   "outputs": [],
   "source": [
    "metric_data = np.array((['Shallow Network', 'Train', recall_train_cnn, spec_train_cnn, f1_train_cnn, acc_train_cnn, 1-acc_train_cnn, auc_train_cnn],\n",
    "                        ['Shallow Network', 'Validation',recall_dev_cnn, spec_dev_cnn, f1_dev_cnn, acc_dev_cnn, 1-acc_dev_cnn, auc_dev_cnn],\n",
    "                        ['ResNet', 'Train', recall_train_res, spec_train_res, f1_train_res, acc_train_res, 1-acc_train_res, auc_train_res],\n",
    "                        ['ResNet', 'Validation',recall_dev_res, spec_dev_res, f1_dev_res, acc_dev_res, 1-acc_dev_res, auc_dev_res]))\n",
    "\n",
    "df_scores = pd.DataFrame(metric_data, \n",
    "            columns=['Algorithm', 'Set', 'AGN completeness', 'non-AGN completeness', \n",
    "                     'F1-score', 'Accuracy', 'Error', 'ROC AUC'])\n",
    "for col in df_scores.columns.values:\n",
    "    if col != 'Algorithm' and col != 'Set':\n",
    "        df_scores[col] = df_scores[col].astype(float)"
   ]
  },
  {
   "cell_type": "code",
   "execution_count": 25,
   "id": "a2a33e0a",
   "metadata": {},
   "outputs": [],
   "source": [
    "df_scores.to_csv('./results/scores.csv', index=False)"
   ]
  },
  {
   "cell_type": "code",
   "execution_count": 26,
   "id": "082c8be4",
   "metadata": {},
   "outputs": [],
   "source": [
    "df_scores = pd.read_csv('./results/scores.csv')"
   ]
  },
  {
   "cell_type": "code",
   "execution_count": 27,
   "id": "e5a86361",
   "metadata": {},
   "outputs": [
    {
     "data": {
      "text/html": [
       "<div>\n",
       "<style scoped>\n",
       "    .dataframe tbody tr th:only-of-type {\n",
       "        vertical-align: middle;\n",
       "    }\n",
       "\n",
       "    .dataframe tbody tr th {\n",
       "        vertical-align: top;\n",
       "    }\n",
       "\n",
       "    .dataframe thead th {\n",
       "        text-align: right;\n",
       "    }\n",
       "</style>\n",
       "<table border=\"1\" class=\"dataframe\">\n",
       "  <thead>\n",
       "    <tr style=\"text-align: right;\">\n",
       "      <th></th>\n",
       "      <th>Algorithm</th>\n",
       "      <th>Set</th>\n",
       "      <th>AGN completeness</th>\n",
       "      <th>non-AGN completeness</th>\n",
       "      <th>F1-score</th>\n",
       "      <th>Accuracy</th>\n",
       "      <th>Error</th>\n",
       "      <th>ROC AUC</th>\n",
       "    </tr>\n",
       "  </thead>\n",
       "  <tbody>\n",
       "    <tr>\n",
       "      <th>0</th>\n",
       "      <td>Shallow Network</td>\n",
       "      <td>Train</td>\n",
       "      <td>0.98</td>\n",
       "      <td>0.78</td>\n",
       "      <td>0.89</td>\n",
       "      <td>0.88</td>\n",
       "      <td>0.12</td>\n",
       "      <td>0.88</td>\n",
       "    </tr>\n",
       "    <tr>\n",
       "      <th>1</th>\n",
       "      <td>Shallow Network</td>\n",
       "      <td>Validation</td>\n",
       "      <td>0.91</td>\n",
       "      <td>0.65</td>\n",
       "      <td>0.80</td>\n",
       "      <td>0.77</td>\n",
       "      <td>0.23</td>\n",
       "      <td>0.78</td>\n",
       "    </tr>\n",
       "    <tr>\n",
       "      <th>2</th>\n",
       "      <td>ResNet</td>\n",
       "      <td>Train</td>\n",
       "      <td>0.82</td>\n",
       "      <td>0.98</td>\n",
       "      <td>0.89</td>\n",
       "      <td>0.90</td>\n",
       "      <td>0.10</td>\n",
       "      <td>0.90</td>\n",
       "    </tr>\n",
       "    <tr>\n",
       "      <th>3</th>\n",
       "      <td>ResNet</td>\n",
       "      <td>Validation</td>\n",
       "      <td>0.72</td>\n",
       "      <td>0.92</td>\n",
       "      <td>0.80</td>\n",
       "      <td>0.82</td>\n",
       "      <td>0.18</td>\n",
       "      <td>0.82</td>\n",
       "    </tr>\n",
       "  </tbody>\n",
       "</table>\n",
       "</div>"
      ],
      "text/plain": [
       "         Algorithm         Set  AGN completeness  non-AGN completeness  \\\n",
       "0  Shallow Network       Train              0.98                  0.78   \n",
       "1  Shallow Network  Validation              0.91                  0.65   \n",
       "2           ResNet       Train              0.82                  0.98   \n",
       "3           ResNet  Validation              0.72                  0.92   \n",
       "\n",
       "   F1-score  Accuracy  Error  ROC AUC  \n",
       "0      0.89      0.88   0.12     0.88  \n",
       "1      0.80      0.77   0.23     0.78  \n",
       "2      0.89      0.90   0.10     0.90  \n",
       "3      0.80      0.82   0.18     0.82  "
      ]
     },
     "execution_count": 27,
     "metadata": {},
     "output_type": "execute_result"
    }
   ],
   "source": [
    "df_scores"
   ]
  },
  {
   "cell_type": "markdown",
   "id": "5adc4749",
   "metadata": {},
   "source": [
    "## Confusion Matrix"
   ]
  },
  {
   "cell_type": "code",
   "execution_count": 34,
   "id": "942807c5",
   "metadata": {},
   "outputs": [
    {
     "data": {
      "text/plain": [
       "(2, 2)"
      ]
     },
     "execution_count": 34,
     "metadata": {},
     "output_type": "execute_result"
    }
   ],
   "source": [
    "con_mat.shape"
   ]
  },
  {
   "cell_type": "code",
   "execution_count": 44,
   "id": "c0f91974",
   "metadata": {},
   "outputs": [
    {
     "data": {
      "image/png": "[encoded data removed]",
      "text/plain": [
       "<Figure size 576x288 with 2 Axes>"
      ]
     },
     "metadata": {},
     "output_type": "display_data"
    }
   ],
   "source": [
    "figure, axes = plt.subplots(nrows=1, ncols=2, sharex=True, sharey=True, figsize=(8,4))\n",
    "\n",
    "con_mat = confusion_matrix(y_dev,yhat_dev_cnn) \n",
    "sns.heatmap(con_mat, annot=True, annot_kws={\"size\": 16}, fmt='g', cmap='Blues', cbar=False, ax=axes[0])\n",
    "con_mat = confusion_matrix(y_dev,yhat_dev_res) \n",
    "sns.heatmap(con_mat, annot=True, annot_kws={\"size\": 16}, fmt='g', cmap='Blues', cbar=False, ax=axes[1])\n",
    "\n",
    "\n",
    "axes[0].set(xlabel='Predicted Values', ylabel='Actual Value')\n",
    "axes[1].set(xlabel='Predicted Values')\n",
    "\n",
    "\n",
    "axes[0].set_title(\"Shallow Network\")\n",
    "axes[1].set_title(\"ResNet\")\n",
    "\n",
    "plt.savefig('./results/Confusion_matrix.pdf',dpi=300)\n",
    "plt.show()"
   ]
  },
  {
   "cell_type": "markdown",
   "id": "af59a57f",
   "metadata": {},
   "source": [
    "### ROC Curve\n",
    "see https://abdalimran.github.io/2019-06-01/Drawing-multiple-ROC-Curves-in-a-single-plot"
   ]
  },
  {
   "cell_type": "code",
   "execution_count": 45,
   "id": "ae37c111",
   "metadata": {},
   "outputs": [],
   "source": [
    "result_table = pd.DataFrame(columns=['classifiers', 'fpr','tpr','auc'])\n",
    "for name, y_hat in {'Shallow Network':yhat_dev_prob_cnn, \n",
    "                    'ResNet':yhat_dev_prob_res}.items():\n",
    "    fpr, tpr, _ = roc_curve(y_dev,  y_hat)\n",
    "    auc = roc_auc_score(y_dev, y_hat)\n",
    "    result_table = result_table.append({'classifiers':name,\n",
    "                                        'fpr':fpr, \n",
    "                                        'tpr':tpr, \n",
    "                                        'auc':auc}, ignore_index=True)"
   ]
  },
  {
   "cell_type": "code",
   "execution_count": 46,
   "id": "47e74f66",
   "metadata": {},
   "outputs": [
    {
     "data": {
      "image/png": "[encoded data removed]",
      "text/plain": [
       "<Figure size 576x432 with 1 Axes>"
      ]
     },
     "metadata": {},
     "output_type": "display_data"
    }
   ],
   "source": [
    "fig = plt.figure(figsize=(8,6))\n",
    "\n",
    "for i in result_table.index:\n",
    "    plt.plot(result_table.loc[i]['fpr'], \n",
    "             result_table.loc[i]['tpr'], \n",
    "             label=\"{}, AUC={:.3f}\".format(result_table.loc[i]['classifiers'], result_table.loc[i]['auc']))\n",
    "    \n",
    "plt.plot([0,1], [0,1], color='orange', linestyle='--', label=\"Random Guess, AUC=0.5\")\n",
    "\n",
    "plt.xticks(np.arange(0.0, 1.1, step=0.1))\n",
    "plt.xlabel(\"Flase Positive Rate\", fontsize=15)\n",
    "\n",
    "plt.yticks(np.arange(0.0, 1.1, step=0.1))\n",
    "plt.ylabel(\"True Positive Rate\", fontsize=15)\n",
    "\n",
    "plt.title('ROC Curve Analysis', fontweight='bold', fontsize=15)\n",
    "plt.legend(prop={'size':13}, loc='lower right')\n",
    "\n",
    "plt.savefig('./results/ROC.pdf',dpi=300)\n",
    "plt.show()"
   ]
  },
  {
   "cell_type": "code",
   "execution_count": 47,
   "id": "656826a0",
   "metadata": {},
   "outputs": [
    {
     "data": {
      "text/html": [
       "<div>\n",
       "<style scoped>\n",
       "    .dataframe tbody tr th:only-of-type {\n",
       "        vertical-align: middle;\n",
       "    }\n",
       "\n",
       "    .dataframe tbody tr th {\n",
       "        vertical-align: top;\n",
       "    }\n",
       "\n",
       "    .dataframe thead th {\n",
       "        text-align: right;\n",
       "    }\n",
       "</style>\n",
       "<table border=\"1\" class=\"dataframe\">\n",
       "  <thead>\n",
       "    <tr style=\"text-align: right;\">\n",
       "      <th></th>\n",
       "      <th>classifiers</th>\n",
       "      <th>fpr</th>\n",
       "      <th>tpr</th>\n",
       "      <th>auc</th>\n",
       "    </tr>\n",
       "  </thead>\n",
       "  <tbody>\n",
       "    <tr>\n",
       "      <th>0</th>\n",
       "      <td>Shallow Network</td>\n",
       "      <td>[0.0, 0.0, 0.0, 0.00033909799932180403, 0.0003...</td>\n",
       "      <td>[0.0, 0.00032776138970829236, 0.00688298918387...</td>\n",
       "      <td>0.87</td>\n",
       "    </tr>\n",
       "    <tr>\n",
       "      <th>1</th>\n",
       "      <td>ResNet</td>\n",
       "      <td>[0.0, 0.0, 0.0, 0.0, 0.0, 0.000339097999321804...</td>\n",
       "      <td>[0.0, 0.00032776138970829236, 0.00426089806620...</td>\n",
       "      <td>0.91</td>\n",
       "    </tr>\n",
       "  </tbody>\n",
       "</table>\n",
       "</div>"
      ],
      "text/plain": [
       "       classifiers                                                fpr  \\\n",
       "0  Shallow Network  [0.0, 0.0, 0.0, 0.00033909799932180403, 0.0003...   \n",
       "1           ResNet  [0.0, 0.0, 0.0, 0.0, 0.0, 0.000339097999321804...   \n",
       "\n",
       "                                                 tpr  auc  \n",
       "0  [0.0, 0.00032776138970829236, 0.00688298918387... 0.87  \n",
       "1  [0.0, 0.00032776138970829236, 0.00426089806620... 0.91  "
      ]
     },
     "execution_count": 47,
     "metadata": {},
     "output_type": "execute_result"
    }
   ],
   "source": [
    "result_table"
   ]
  },
  {
   "cell_type": "markdown",
   "id": "1100f472",
   "metadata": {},
   "source": [
    "# Result"
   ]
  },
  {
   "cell_type": "markdown",
   "id": "bd328837",
   "metadata": {},
   "source": [
    "<font color='blue'>Conclusion:</font>\n",
    "- The use of deep network makes the performance better than using shallow network with 1 hidden layer (82% vs. 77% accuracy in test set).\n",
    "- The ResNet tends to misclassify AGN as non-AGN, and shallow network tends to misclassify non-AGN as AGN. \n",
    "    \n",
    "<font color='blue'>Possible Improvement:</font>\n",
    "- The accuracy of training set is ~ 90%, and testing set is ~ 80%, indicating both bias and variance problem. \n",
    "- Get more data."
   ]
  },
  {
   "cell_type": "code",
   "execution_count": null,
   "id": "469a7399",
   "metadata": {},
   "outputs": [],
   "source": []
  }
 ],
 "metadata": {
  "kernelspec": {
   "display_name": "Python 3.6.5 64-bit",
   "language": "python",
   "name": "python36564bit93b81c14a79841988c96843b1cebe27c"
  },
  "language_info": {
   "codemirror_mode": {
    "name": "ipython",
    "version": 3
   },
   "file_extension": ".py",
   "mimetype": "text/x-python",
   "name": "python",
   "nbconvert_exporter": "python",
   "pygments_lexer": "ipython3",
   "version": "3.6.5"
  }
 },
 "nbformat": 4,
 "nbformat_minor": 5
}
